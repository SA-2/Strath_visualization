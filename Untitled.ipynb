{
 "cells": [
  {
   "cell_type": "code",
   "execution_count": null,
   "metadata": {},
   "outputs": [],
   "source": [
    "import pandas as pd\n",
    "import numpy as np\n",
    "import matplotlib.pyplot as plt\n",
    "import seaborn as sns\n",
    "import os,sys"
   ]
  },
  {
   "cell_type": "code",
   "execution_count": null,
   "metadata": {},
   "outputs": [],
   "source": [
    "scope_traces=[]\n",
    "file_names=os.listdir('C:/Users/Ehlimana/Desktop/New try/Data/AFRC Radial Forge - Zenodoo Upload v3/Data/ScopeTraces')"
   ]
  },
  {
   "cell_type": "code",
   "execution_count": null,
   "metadata": {},
   "outputs": [],
   "source": [
    "file_names[0]"
   ]
  },
  {
   "cell_type": "code",
   "execution_count": null,
   "metadata": {},
   "outputs": [],
   "source": [
    "for file in file_names:\n",
    "    df=pd.read_csv(\"C:\\\\Users\\\\Ehlimana\\\\Desktop\\\\New try\\\\Data\\\\AFRC Radial Forge - Zenodoo Upload v3\\\\Data\\\\ScopeTraces\\\\\"+file,encoding = 'unicode_escape') \n",
    "    scope_traces.append(df)"
   ]
  },
  {
   "cell_type": "code",
   "execution_count": null,
   "metadata": {},
   "outputs": [],
   "source": [
    "type(scope_traces[0])"
   ]
  },
  {
   "cell_type": "code",
   "execution_count": null,
   "metadata": {},
   "outputs": [],
   "source": [
    "def plot_sensors(part):\n",
    "    column_names=part.columns\n",
    "    for column in column_names:\n",
    "        fig = plt.figure(figsize=(4,4)) # define plot area\n",
    "        plt.plot(np.arange(0,(part.shape[0]/100),0.01),part[column].values)\n",
    "        plt.xlabel(\"Time, s\")\n",
    "        plt.ylabel(column)\n",
    "        plt.show()\n"
   ]
  },
  {
   "cell_type": "markdown",
   "metadata": {},
   "source": [
    "Divide into forging and heating for each produced part"
   ]
  },
  {
   "cell_type": "code",
   "execution_count": null,
   "metadata": {},
   "outputs": [],
   "source": [
    "forging_sensors=[None]*81\n",
    "\n",
    "forging_sensors=[scope_traces[part][['Power [kW]', 'Force [kN]', 'A_ges_vibr','Schlagzahl [1/min]', 'RamRetract_ActSpd [rpm]',\n",
    "       'A_ACTpos [mm]', 'L_ACTpos [mm]', 'R_ACTpos [mm]','SBA_ActPos [mm]', 'A_ACT_Force [kN]', 'DB_ACT_Force [kN]',\n",
    "       'L_NOMpos [mm]', 'R_NOMpos [mm]', 'INDA_NOMpos [deg]','A_NOMpos [mm]', 'Frc_Volt','ForgingBox_Temp', 'L1.R_B41 [bar]', 'TMP_Ind_F [°C]','W2 Durchfluss [l]', 'W1 Durchfluss [l]']] for part in range(len(scope_traces))] "
   ]
  },
  {
   "cell_type": "code",
   "execution_count": null,
   "metadata": {
    "scrolled": true
   },
   "outputs": [],
   "source": [
    "plot_sensors(forging_sensors[0])"
   ]
  },
  {
   "cell_type": "code",
   "execution_count": null,
   "metadata": {},
   "outputs": [],
   "source": [
    "heating_sensors=[None]*81\n",
    "heating_sensors=[scope_traces[part][['TMP_Ind_U1 [°C]','IP_ActPos [mm]', 'IP_NomPos']] for part in range(len(scope_traces))]"
   ]
  },
  {
   "cell_type": "code",
   "execution_count": null,
   "metadata": {},
   "outputs": [],
   "source": [
    "plot_sensors(heating_sensors[0])"
   ]
  },
  {
   "cell_type": "code",
   "execution_count": null,
   "metadata": {},
   "outputs": [],
   "source": [
    "def df_summary(part):\n",
    "    print(\"Part\", part.describe())"
   ]
  },
  {
   "cell_type": "code",
   "execution_count": null,
   "metadata": {},
   "outputs": [],
   "source": [
    "df_summary(forging_sensors[0])"
   ]
  },
  {
   "cell_type": "code",
   "execution_count": null,
   "metadata": {
    "scrolled": true
   },
   "outputs": [],
   "source": [
    "df_summary(heating_sensors[0])"
   ]
  },
  {
   "cell_type": "code",
   "execution_count": null,
   "metadata": {},
   "outputs": [],
   "source": [
    "corr = forging_sensors[0].corr()\n",
    "f, ax = plt.subplots(figsize=(5, 5))\n",
    "ax = sns.heatmap(corr, vmin=-1, vmax=1, center=0,cmap=sns.diverging_palette(20, 220, n=200),square=True)\n",
    "ax.set_xticklabels(ax.get_xticklabels(),rotation=45,horizontalalignment='right')"
   ]
  },
  {
   "cell_type": "code",
   "execution_count": null,
   "metadata": {},
   "outputs": [],
   "source": [
    "corr=forging_sensors[0].corr()\n",
    "corr.style.background_gradient(cmap='coolwarm').set_precision(2)"
   ]
  },
  {
   "cell_type": "code",
   "execution_count": null,
   "metadata": {},
   "outputs": [],
   "source": [
    "corr = heating_sensors[0].corr()\n",
    "f, ax = plt.subplots(figsize=(5, 5))\n",
    "ax = sns.heatmap(corr, vmin=-1, vmax=1, center=0,cmap=sns.diverging_palette(20, 220, n=200),square=True)\n",
    "ax.set_xticklabels(ax.get_xticklabels(),rotation=45,horizontalalignment='right')"
   ]
  },
  {
   "cell_type": "code",
   "execution_count": null,
   "metadata": {},
   "outputs": [],
   "source": [
    "corr=heating_sensors[0].corr()\n",
    "corr.style.background_gradient(cmap='coolwarm').set_precision(2)"
   ]
  },
  {
   "cell_type": "markdown",
   "metadata": {},
   "source": [
    "Merge data from all parts into one DataFrame:"
   ]
  },
  {
   "cell_type": "code",
   "execution_count": null,
   "metadata": {},
   "outputs": [],
   "source": [
    "for index,df in enumerate(scope_traces):\n",
    "    df['traceID'] = index+1"
   ]
  },
  {
   "cell_type": "code",
   "execution_count": null,
   "metadata": {},
   "outputs": [],
   "source": [
    "merged_data = pd.concat(scope_traces, ignore_index=True)\n",
    "merged_data['Time [s]']=(merged_data.index.values)/100.0"
   ]
  },
  {
   "cell_type": "markdown",
   "metadata": {},
   "source": [
    "Determination of heating start and stop. Extraction of heating phase segments for each part."
   ]
  },
  {
   "cell_type": "code",
   "execution_count": null,
   "metadata": {},
   "outputs": [],
   "source": [
    "def extract_heating_phases(trace):\n",
    "    heating_start=[]\n",
    "    heating_stop=[]\n",
    "    \n",
    "    digital_sig_heating = trace['$U_GH_HEATON_1 (U25S0).1']>0\n",
    "    heating_diff = digital_sig_heating.astype('int').diff()\n",
    "    heating_start.append(heating_diff[heating_diff==1].index.values)\n",
    "    heating_stop.append(heating_diff[heating_diff==-1].index.values) \n",
    "    heat_list=list(zip(heating_start[0], heating_stop[0]))\n",
    "    heating_ph=[None]*(len(heat_list))\n",
    "                  \n",
    "    heating_ph=[trace[['TMP_Ind_U1 [°C]','IP_ActPos [mm]','IP_NomPos']][heat_list[i][0]:heat_list[i][1]] for i in range(len(heat_list))] \n",
    "        \n",
    "    return heating_ph\n"
   ]
  },
  {
   "cell_type": "markdown",
   "metadata": {},
   "source": [
    "Determination of forging start and stop. Extraction of forging phase segments for each part."
   ]
  },
  {
   "cell_type": "code",
   "execution_count": null,
   "metadata": {},
   "outputs": [],
   "source": [
    "def extract_forging_phases(trace):\n",
    "    forging_start=[]\n",
    "    forging_end=[]\n",
    "    digital_sig_forge = trace['Force [kN]']>0\n",
    "    forge_diff = digital_sig_forge.astype('int').diff()\n",
    "    forging_start.append(forge_diff[forge_diff==1].index.values)\n",
    "    forging_end.append(forge_diff[forge_diff==-1].index.values) \n",
    "                    \n",
    "    forge_list=list(zip(forging_start[0], forging_end[0]))     \n",
    "    forging_ph=[None]*(len(forge_list))\n",
    "    forging_ph=[trace[['Power [kW]', 'Force [kN]', 'A_ges_vibr','Schlagzahl [1/min]', 'RamRetract_ActSpd [rpm]',\n",
    "       'A_ACTpos [mm]', 'L_ACTpos [mm]', 'R_ACTpos [mm]','SBA_ActPos [mm]', 'A_ACT_Force [kN]', 'DB_ACT_Force [kN]',\n",
    "       'L_NOMpos [mm]', 'R_NOMpos [mm]', 'INDA_NOMpos [deg]','A_NOMpos [mm]', 'Frc_Volt','ForgingBox_Temp', 'L1.R_B41 [bar]', 'TMP_Ind_F [°C]','W2 Durchfluss [l]', 'W1 Durchfluss [l]']][forge_list[i][0]:forge_list[i][1]] for i in range(len(forge_list))]\n",
    "    return forging_ph"
   ]
  },
  {
   "cell_type": "code",
   "execution_count": null,
   "metadata": {},
   "outputs": [],
   "source": [
    "heating_ph=extract_heating_phases(merged_data)"
   ]
  },
  {
   "cell_type": "code",
   "execution_count": null,
   "metadata": {},
   "outputs": [],
   "source": [
    "forging_ph=extract_forging_phases(merged_data)"
   ]
  },
  {
   "cell_type": "markdown",
   "metadata": {},
   "source": [
    "Minimum duration of heating and forging phase through all produced parts"
   ]
  },
  {
   "cell_type": "code",
   "execution_count": null,
   "metadata": {},
   "outputs": [],
   "source": [
    "cycle_length_heat=[None]*(len(heating_ph))\n",
    "cycle_length_forge=[None]*(len(heating_ph))\n",
    "cycle_length_heat=[(heating_ph[i].shape[0]) for i in range(len(heating_ph))]\n",
    "cycle_length_forge=[(forging_ph[i].shape[0]) for i in range(len(heating_ph))]\n",
    "min_length_heat=min(cycle_length_heat)\n",
    "min_length_forge=min(cycle_length_forge)\n",
    "print(\"Minimum length of time signals  for the heating phase is :\",min_length_heat, \"and it is in\",cycle_length_heat.index(min_length_heat),\". cycle\")\n",
    "print(\"Minimum length of time signals  for the forging phase is :\",min_length_forge, \"and it is in\",cycle_length_forge.index(min_length_forge),\". cycle\")    "
   ]
  },
  {
   "cell_type": "markdown",
   "metadata": {},
   "source": [
    "Extraction of the minimum duration for both phases"
   ]
  },
  {
   "cell_type": "code",
   "execution_count": null,
   "metadata": {},
   "outputs": [],
   "source": [
    "heating_ph_extracted=[None]*(len(heating_ph))\n",
    "heating_ph_extracted=[heating_ph[x].iloc[:10997,:] for x in range(len(heating_ph))]"
   ]
  },
  {
   "cell_type": "code",
   "execution_count": null,
   "metadata": {},
   "outputs": [],
   "source": [
    "forging_ph_extracted=[None]*(len(heating_ph))\n",
    "forging_ph_extracted=[forging_ph[x].iloc[:5619,:] for x in range(len(forging_ph))]"
   ]
  },
  {
   "cell_type": "code",
   "execution_count": null,
   "metadata": {},
   "outputs": [],
   "source": [
    "df_summary(heating_ph_extracted[0])"
   ]
  },
  {
   "cell_type": "code",
   "execution_count": null,
   "metadata": {},
   "outputs": [],
   "source": [
    "df_summary(forging_ph_extracted[0])"
   ]
  },
  {
   "cell_type": "code",
   "execution_count": null,
   "metadata": {},
   "outputs": [],
   "source": [
    "corr=forging_ph_extracted[0].corr()\n",
    "corr.style.background_gradient(cmap='coolwarm').set_precision(2)"
   ]
  },
  {
   "cell_type": "code",
   "execution_count": null,
   "metadata": {},
   "outputs": [],
   "source": [
    "corr=heating_ph_extracted[0].corr()\n",
    "corr.style.background_gradient(cmap='coolwarm').set_precision(2)"
   ]
  }
 ],
 "metadata": {
  "kernelspec": {
   "display_name": "Python 3",
   "language": "python",
   "name": "python3"
  },
  "language_info": {
   "codemirror_mode": {
    "name": "ipython",
    "version": 3
   },
   "file_extension": ".py",
   "mimetype": "text/x-python",
   "name": "python",
   "nbconvert_exporter": "python",
   "pygments_lexer": "ipython3",
   "version": "3.7.3"
  }
 },
 "nbformat": 4,
 "nbformat_minor": 2
}
