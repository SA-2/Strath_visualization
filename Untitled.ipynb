{
 "cells": [
  {
   "cell_type": "markdown",
   "metadata": {},
   "source": [
    "# Data pre-processing and visualization"
   ]
  },
  {
   "cell_type": "markdown",
   "metadata": {},
   "source": [
    "The first step in application of machine learning methods is to explore and visualize the available data. This means an understanding of the properties and relationships in a dataset (between the data columns and between the data columns and labels).\n",
    "This task is divided into several stages:\n",
    "   - Files containing useful data are uploaded from the folder.\n",
    "   - The size of the data is determined.\n",
    "   - For each file, it is necessary to check whether the type of the data in columns corresponds to the type that is expected.This also gives an insight if the data is numerical, categorical or mixed.\n",
    "   - In general cases, it can happen that some cells are empty, or contain NaN values. Because of this, check for empty cells is performed as an example even if it is not expected that this error arise from the sensors' data.\n",
    "   - Using Pandas method `describe`,some statistical summary is gained.\n",
    "   - Some basic plots are presented in order to describe the nature of the data from the sensors."
   ]
  },
  {
   "cell_type": "code",
   "execution_count": null,
   "metadata": {},
   "outputs": [],
   "source": [
    "import pandas as pd\n",
    "import numpy as np\n",
    "import matplotlib.pyplot as plt\n",
    "import seaborn as sns\n",
    "import os,sys\n",
    "import ipywidgets as widgets\n",
    "from ipywidgets import interact, interact_manual\n",
    "import h5py\n",
    "from scipy import signal"
   ]
  },
  {
   "cell_type": "markdown",
   "metadata": {},
   "source": [
    "### Files upload, data size and type"
   ]
  },
  {
   "cell_type": "markdown",
   "metadata": {},
   "source": [
    "Uploading 81 files which correspond to 81 production parts."
   ]
  },
  {
   "cell_type": "code",
   "execution_count": null,
   "metadata": {},
   "outputs": [],
   "source": [
    "scope_traces=[] #this will be the list of dataframes\n",
    "file_names=os.listdir('Data/AFRC Radial Forge - Zenodoo Upload v3/Data/ScopeTraces')"
   ]
  },
  {
   "cell_type": "markdown",
   "metadata": {},
   "source": [
    "Upload check"
   ]
  },
  {
   "cell_type": "code",
   "execution_count": null,
   "metadata": {},
   "outputs": [],
   "source": [
    "file_names[0]"
   ]
  },
  {
   "cell_type": "markdown",
   "metadata": {},
   "source": [
    "Creating the list of dataframes for the uploaded files:"
   ]
  },
  {
   "cell_type": "code",
   "execution_count": null,
   "metadata": {},
   "outputs": [],
   "source": [
    "for file in file_names:\n",
    "    df=pd.read_csv(\"Data\\\\AFRC Radial Forge - Zenodoo Upload v3\\\\Data\\\\ScopeTraces\\\\\"+file,encoding = 'unicode_escape') \n",
    "    scope_traces.append(df)"
   ]
  },
  {
   "cell_type": "code",
   "execution_count": null,
   "metadata": {},
   "outputs": [],
   "source": [
    "type(scope_traces[0]) #checking the type of element in the list (dataframe)"
   ]
  },
  {
   "cell_type": "markdown",
   "metadata": {},
   "source": [
    "A total number of 81 files (81 sensors' cycles or 81 produced parts per day in the forging process) is analyzed. The first file contains 23328 rows (corresponding to the time samples from 97 sensors). Later, it is going to be discovered that the number of rows differs among all files."
   ]
  },
  {
   "cell_type": "code",
   "execution_count": null,
   "metadata": {},
   "outputs": [],
   "source": [
    "scope_traces[0].head()"
   ]
  },
  {
   "cell_type": "code",
   "execution_count": null,
   "metadata": {},
   "outputs": [],
   "source": [
    "scope_traces[0].shape #file size"
   ]
  },
  {
   "cell_type": "markdown",
   "metadata": {},
   "source": [
    "For each dataframe, it is possible to check the type of values in all columns. It is expected that all values are integers *int* or real numbers *float64* because they represent measuring data from the sensors. To demonstrate this step, it will be done on one file."
   ]
  },
  {
   "cell_type": "code",
   "execution_count": null,
   "metadata": {},
   "outputs": [],
   "source": [
    "scope_traces[0].dtypes"
   ]
  },
  {
   "cell_type": "markdown",
   "metadata": {},
   "source": [
    "### Check for missing values"
   ]
  },
  {
   "cell_type": "markdown",
   "metadata": {},
   "source": [
    "Function *check_empty* checks whether the file contains empty cells. Here, it is supposed that empty cell is a blank cell (\" \")."
   ]
  },
  {
   "cell_type": "code",
   "execution_count": null,
   "metadata": {},
   "outputs": [],
   "source": [
    "def check_empty(trace):\n",
    "    empty_cell=(trace.astype(np.object) == '').any()\n",
    "    [print(\"Empty_cell\") for x in empty_cell if x==True]"
   ]
  },
  {
   "cell_type": "code",
   "execution_count": null,
   "metadata": {},
   "outputs": [],
   "source": [
    "for i in range(len(scope_traces)): #check for all of 81 files\n",
    "    print(i, end=\"\\r\") \n",
    "    check_empty(scope_traces[i])"
   ]
  },
  {
   "cell_type": "markdown",
   "metadata": {},
   "source": [
    "### Statistical summary"
   ]
  },
  {
   "cell_type": "markdown",
   "metadata": {},
   "source": [
    "Based on previous notebooks and similar plots where changes in signals and peaks were observed, sensors are divided into two groups: forging and heating for each produced part. These sensors were chosen based on their importance for the heating or forging phases. It is important to notice that some sensors were dropped because they are not in use, or because they are described as auxiliary sensors. "
   ]
  },
  {
   "cell_type": "code",
   "execution_count": null,
   "metadata": {},
   "outputs": [],
   "source": [
    "forging_sensors=np.zeros((len(scope_traces), *scope_traces[0].shape))\n",
    "\n",
    "forging_sensors=[scope_traces[part][['Power [kW]', 'Force [kN]', 'A_ges_vibr','Schlagzahl [1/min]', 'RamRetract_ActSpd [rpm]',\n",
    "       'A_ACTpos [mm]', 'L_ACTpos [mm]', 'R_ACTpos [mm]','SBA_ActPos [mm]', 'A_ACT_Force [kN]', 'DB_ACT_Force [kN]',\n",
    "       'L_NOMpos [mm]', 'R_NOMpos [mm]', 'INDA_NOMpos [deg]','A_NOMpos [mm]', 'Frc_Volt','ForgingBox_Temp', 'L1.R_B41 [bar]', 'TMP_Ind_F [°C]','W2 Durchfluss [l]', 'W1 Durchfluss [l]']] for part in range(len(scope_traces))] "
   ]
  },
  {
   "cell_type": "code",
   "execution_count": null,
   "metadata": {},
   "outputs": [],
   "source": [
    "heating_sensors=np.zeros((len(scope_traces), *scope_traces[0].shape))\n",
    "heating_sensors=[scope_traces[part][['TMP_Ind_U1 [°C]','IP_ActPos [mm]', 'IP_NomPos']] for part in range(len(scope_traces))]"
   ]
  },
  {
   "cell_type": "markdown",
   "metadata": {},
   "source": [
    "Statistical overview of the sensors is made by function *df_summary*. This is demonstrated for the first production part only, but if this function runs for other parts, the difference in sensors' cycles (duration of the production of each part) can be seen by the `count`property. It can be noticed that for some sensors standard deviation from the mean value is very high. Also, the median value much differs from the mean value in some cases. This situation implies that it might be useful to extract the heating and forging phase instead of analyzing the signals for the whole production process. "
   ]
  },
  {
   "cell_type": "code",
   "execution_count": null,
   "metadata": {},
   "outputs": [],
   "source": [
    "def df_summary(part):\n",
    "    print(\"Part\", part.describe())"
   ]
  },
  {
   "cell_type": "code",
   "execution_count": null,
   "metadata": {},
   "outputs": [],
   "source": [
    "df_summary(forging_sensors[0])"
   ]
  },
  {
   "cell_type": "code",
   "execution_count": null,
   "metadata": {
    "scrolled": true
   },
   "outputs": [],
   "source": [
    "df_summary(heating_sensors[0])"
   ]
  },
  {
   "cell_type": "markdown",
   "metadata": {},
   "source": [
    "The statistical summary can also help to eliminate the sensors with **low variance** and **zero variance**. Zero variance features are comprised of the same values. Low variance features arise from features with most values the same and with few unique values.  \n",
    "In addition to the statistical summary, function *plot_sensors* plots signals from the sensor recorded during the whole production process of one part (comprised of three phases: heating, transferring and forging)."
   ]
  },
  {
   "cell_type": "code",
   "execution_count": null,
   "metadata": {},
   "outputs": [],
   "source": [
    "def plot_sensors(part):\n",
    "    column_names=part.columns\n",
    "    for column in column_names:\n",
    "        fig = plt.figure(figsize=(4,4)) # define plot area\n",
    "        plt.plot(np.arange(0,(part.shape[0]/100),0.01),part[column].values)\n",
    "        plt.xlabel(\"Time, s\")\n",
    "        plt.ylabel(column)\n",
    "        plt.show()"
   ]
  },
  {
   "cell_type": "code",
   "execution_count": null,
   "metadata": {
    "scrolled": true
   },
   "outputs": [],
   "source": [
    "plot_sensors(forging_sensors[0])"
   ]
  },
  {
   "cell_type": "code",
   "execution_count": null,
   "metadata": {},
   "outputs": [],
   "source": [
    "plot_sensors(heating_sensors[0])"
   ]
  },
  {
   "cell_type": "markdown",
   "metadata": {},
   "source": [
    "Pearson correlation coefficients between different sensors are calculated in the next cell. Correlation can have big impact on feature selection. Sensors with big correlation should be detected and they should not be in the same Machine Learning model.Correlation coefficients are calculated as the mean values for 81 parts."
   ]
  },
  {
   "cell_type": "code",
   "execution_count": null,
   "metadata": {},
   "outputs": [],
   "source": [
    "def calculate_correlation(sensors):\n",
    "    correlation_list=[sensors[i].corr().values for i in range(len(sensors))]\n",
    "    correlation_array=np.array(correlation_list)\n",
    "    print(\"Correlation array dimensions:\",correlation_array.shape)\n",
    "    corr_mean=np.mean(correlation_array,axis=0)\n",
    "    print(\"Mean value of correlation coefficients for all sensors:\")\n",
    "    corr_mean_df=pd.DataFrame(corr_mean,columns=sensors[0].columns,index=sensors[0].columns)\n",
    "    return corr_mean_df.style.background_gradient(cmap='coolwarm').set_precision(2)"
   ]
  },
  {
   "cell_type": "code",
   "execution_count": null,
   "metadata": {},
   "outputs": [],
   "source": [
    "calculate_correlation(forging_sensors) #mean values of corr coefficients for all parts"
   ]
  },
  {
   "cell_type": "code",
   "execution_count": null,
   "metadata": {},
   "outputs": [],
   "source": [
    "calculate_correlation(heating_sensors) #mean values of corr coefficients for all parts"
   ]
  },
  {
   "cell_type": "markdown",
   "metadata": {},
   "source": [
    "## Extraction of the heating phase and forging phase from the sensors' signals"
   ]
  },
  {
   "cell_type": "markdown",
   "metadata": {},
   "source": [
    "The following analysis is based on the extraction of the heating and forging phase from the sensors. Then, all of the previous steps are repeated. \n",
    "\n",
    "Merge data from all parts into one Dataframe:"
   ]
  },
  {
   "cell_type": "code",
   "execution_count": null,
   "metadata": {},
   "outputs": [],
   "source": [
    "for index,df in enumerate(scope_traces):\n",
    "    df['traceID'] = index+1"
   ]
  },
  {
   "cell_type": "code",
   "execution_count": null,
   "metadata": {},
   "outputs": [],
   "source": [
    "merged_data = pd.concat(scope_traces, ignore_index=True)\n",
    "merged_data['Time [s]']=(merged_data.index.values)/100.0"
   ]
  },
  {
   "cell_type": "markdown",
   "metadata": {},
   "source": [
    "Function *extract_heating_phases* uses the value of the sensor \"$U_GH_HEATON_1 (U25S0).1\" greater than zero as reference for the start of the heating phase. When the value becomes zero, it means that heating phase is finished. This phase is extracted only for heating sensors."
   ]
  },
  {
   "cell_type": "code",
   "execution_count": null,
   "metadata": {},
   "outputs": [],
   "source": [
    "def extract_heating_phases(trace):\n",
    "    heating_start=[]\n",
    "    heating_stop=[]\n",
    "    \n",
    "    digital_sig_heating = trace['$U_GH_HEATON_1 (U25S0).1']>0\n",
    "    heating_diff = digital_sig_heating.astype('int').diff()\n",
    "    heating_start.append(heating_diff[heating_diff==1].index.values) # difference between next cell and previous cell \n",
    "                                                                    #is positive because the heating phase is still active\n",
    "    heating_stop.append(heating_diff[heating_diff==-1].index.values) # difference between next cell and previous cell \n",
    "                                                                    #is negative because the heating phase is finished\n",
    "    heat_list=list(zip(heating_start[0], heating_stop[0]))\n",
    "    heating_ph=[None]*(len(heat_list))\n",
    "                  \n",
    "    heating_ph=[trace[['TMP_Ind_U1 [°C]','IP_ActPos [mm]','IP_NomPos']][heat_list[i][0]:heat_list[i][1]] for i in range(len(heat_list))] \n",
    "        \n",
    "    return heating_ph\n"
   ]
  },
  {
   "cell_type": "markdown",
   "metadata": {},
   "source": [
    "Function *extract_forging_phases* uses the value of the sensor \"Force [kN]\" greater than zero as reference for the start of the forging phase."
   ]
  },
  {
   "cell_type": "code",
   "execution_count": null,
   "metadata": {},
   "outputs": [],
   "source": [
    "def extract_forging_phases(trace):\n",
    "    forging_start=[]\n",
    "    forging_end=[]\n",
    "    digital_sig_forge = trace['Force [kN]']>0\n",
    "    forge_diff = digital_sig_forge.astype('int').diff()\n",
    "    forging_start.append(forge_diff[forge_diff==1].index.values)\n",
    "    forging_end.append(forge_diff[forge_diff==-1].index.values) \n",
    "                    \n",
    "    forge_list=list(zip(forging_start[0], forging_end[0]))     \n",
    "    forging_ph=[None]*(len(forge_list))\n",
    "    forging_ph=[trace[['Power [kW]', 'Force [kN]', 'A_ges_vibr','Schlagzahl [1/min]', 'RamRetract_ActSpd [rpm]',\n",
    "       'A_ACTpos [mm]', 'L_ACTpos [mm]', 'R_ACTpos [mm]','SBA_ActPos [mm]', 'A_ACT_Force [kN]', 'DB_ACT_Force [kN]',\n",
    "       'L_NOMpos [mm]', 'R_NOMpos [mm]', 'INDA_NOMpos [deg]','A_NOMpos [mm]', 'Frc_Volt','ForgingBox_Temp', 'L1.R_B41 [bar]', 'TMP_Ind_F [°C]','W2 Durchfluss [l]', 'W1 Durchfluss [l]']][forge_list[i][0]:forge_list[i][1]] for i in range(len(forge_list))]\n",
    "    return forging_ph"
   ]
  },
  {
   "cell_type": "code",
   "execution_count": null,
   "metadata": {},
   "outputs": [],
   "source": [
    "heating_ph=extract_heating_phases(merged_data)"
   ]
  },
  {
   "cell_type": "code",
   "execution_count": null,
   "metadata": {},
   "outputs": [],
   "source": [
    "forging_ph=extract_forging_phases(merged_data)"
   ]
  },
  {
   "cell_type": "markdown",
   "metadata": {},
   "source": [
    "Minimum duration of heating and forging phase for all parts that were produced:"
   ]
  },
  {
   "cell_type": "code",
   "execution_count": null,
   "metadata": {},
   "outputs": [],
   "source": [
    "cycle_length_heat=[None]*(len(heating_ph))\n",
    "cycle_length_forge=[None]*(len(heating_ph))\n",
    "cycle_length_heat=[(heating_ph[i].shape[0]) for i in range(len(heating_ph))]\n",
    "cycle_length_forge=[(forging_ph[i].shape[0]) for i in range(len(heating_ph))]\n",
    "min_length_heat=min(cycle_length_heat)\n",
    "min_length_forge=min(cycle_length_forge)\n",
    "print(\"Minimum length of time signals  for the heating phase is :\",min_length_heat, \"and it is in\",cycle_length_heat.index(min_length_heat),\". cycle\")\n",
    "print(\"Minimum length of time signals  for the forging phase is :\",min_length_forge, \"and it is in\",cycle_length_forge.index(min_length_forge),\". cycle\")    "
   ]
  },
  {
   "cell_type": "markdown",
   "metadata": {},
   "source": [
    "Because of the different length of heating phase and forging phase of time signals, the minimum duration for both phases is extracted. Then, steps for the calculation of statistical summary and correlation coefficients are repeated."
   ]
  },
  {
   "cell_type": "code",
   "execution_count": null,
   "metadata": {},
   "outputs": [],
   "source": [
    "heating_ph_extracted=[None]*(len(heating_ph))\n",
    "heating_ph_extracted=[heating_ph[x].iloc[:10997,:] for x in range(len(heating_ph))]"
   ]
  },
  {
   "cell_type": "code",
   "execution_count": null,
   "metadata": {},
   "outputs": [],
   "source": [
    "forging_ph_extracted=[None]*(len(heating_ph))\n",
    "forging_ph_extracted=[forging_ph[x].iloc[:5619,:] for x in range(len(forging_ph))]"
   ]
  },
  {
   "cell_type": "code",
   "execution_count": null,
   "metadata": {},
   "outputs": [],
   "source": [
    "df_summary(heating_ph_extracted[10])"
   ]
  },
  {
   "cell_type": "markdown",
   "metadata": {},
   "source": [
    "From the statistical summary for the heating phase, it can be seen that standard deviation for two of these sensors is close to zero. Because of this, these sensors are eliminated from the future observations."
   ]
  },
  {
   "cell_type": "code",
   "execution_count": null,
   "metadata": {},
   "outputs": [],
   "source": [
    "heating_sensors=[heating_ph_extracted[i].drop(columns=['IP_NomPos',\"IP_ActPos [mm]\"]) for i in range(len(heating_ph_extracted))]"
   ]
  },
  {
   "cell_type": "code",
   "execution_count": null,
   "metadata": {
    "scrolled": true
   },
   "outputs": [],
   "source": [
    "df_summary(forging_ph_extracted[0])"
   ]
  },
  {
   "cell_type": "markdown",
   "metadata": {},
   "source": [
    "Standard deviation for the sensors: L1.R_B41 [bar], ForgingBox_Temp are close to zero. They will be eliminated.  "
   ]
  },
  {
   "cell_type": "code",
   "execution_count": null,
   "metadata": {},
   "outputs": [],
   "source": [
    "#strong correlation\n",
    "forging_sensors=[forging_ph_extracted[i].drop(columns=['L1.R_B41 [bar]',\"ForgingBox_Temp\"]) for i in range(len(forging_ph_extracted))]"
   ]
  },
  {
   "cell_type": "code",
   "execution_count": null,
   "metadata": {},
   "outputs": [],
   "source": [
    "calculate_correlation(forging_sensors) #mean values of corr coefficients for all parts"
   ]
  },
  {
   "cell_type": "code",
   "execution_count": null,
   "metadata": {},
   "outputs": [],
   "source": [
    "#strong correlation\n",
    "forging_sensors=[forging_ph_extracted[i].drop(columns=['Power [kW]','R_NOMpos [mm]',\"L_NOMpos [mm]\", \"R_ACTpos [mm]\",'W1 Durchfluss [l]',\"A_NOMpos [mm]\",\"L_NOMpos [mm]\",'L1.R_B41 [bar]',\"ForgingBox_Temp\"]) for i in range(len(forging_ph_extracted))]"
   ]
  },
  {
   "cell_type": "code",
   "execution_count": null,
   "metadata": {
    "scrolled": true
   },
   "outputs": [],
   "source": [
    "calculate_correlation(forging_sensors)"
   ]
  },
  {
   "cell_type": "code",
   "execution_count": null,
   "metadata": {},
   "outputs": [],
   "source": [
    "plot_sensors(forging_sensors[0])"
   ]
  },
  {
   "cell_type": "code",
   "execution_count": null,
   "metadata": {},
   "outputs": [],
   "source": [
    "forging_sensors[0].shape"
   ]
  },
  {
   "cell_type": "code",
   "execution_count": null,
   "metadata": {},
   "outputs": [],
   "source": [
    "heating_sensors[0].shape"
   ]
  },
  {
   "cell_type": "code",
   "execution_count": null,
   "metadata": {},
   "outputs": [],
   "source": [
    "len(heating_sensors)"
   ]
  },
  {
   "cell_type": "code",
   "execution_count": null,
   "metadata": {},
   "outputs": [],
   "source": [
    "plot_sensors(heating_sensors[0])"
   ]
  },
  {
   "cell_type": "markdown",
   "metadata": {},
   "source": [
    "Now, data is going to be arranged in a 3D matrix, in a way that first dimension represents number of sensors, the second - number of cycles (81 cycles for 81 part produced) and the third one represents number of discrete points (measurement values)."
   ]
  },
  {
   "cell_type": "code",
   "execution_count": null,
   "metadata": {},
   "outputs": [],
   "source": [
    "#split in dimensions 13x81x5619:\n",
    "forging_sensors=[np.transpose(forging_sensors[i])for i in range(len(forging_sensors))] #81x14x5619\n",
    "#define the array of sensors (13x81x5619):\n",
    "split_forging_sensors=np.zeros((forging_sensors[0].shape[0],len(forging_sensors),forging_sensors[0].shape[1]))\n",
    "#turn 81x13 into 13x81\n",
    "for i in range(forging_sensors[0].shape[0]):\n",
    "    for j in range(len(forging_sensors)):\n",
    "        xx=np.asarray(forging_sensors[j])\n",
    "        split_forging_sensors[i,j]=xx[i]\n",
    "print(\"Dimensions of matrix:\", split_forging_sensors.shape)"
   ]
  },
  {
   "cell_type": "code",
   "execution_count": null,
   "metadata": {},
   "outputs": [],
   "source": [
    "#split in dimensions 2x81x10997:\n",
    "heating_sensors=[np.transpose(heating_sensors[i])for i in range(len(heating_sensors))] #81x2x10997\n",
    "#define the array of sensors (2x81x10997):\n",
    "split_heating_sensors=np.zeros((heating_sensors[0].shape[0],len(heating_sensors),heating_sensors[0].shape[1]))\n",
    "#turn 81x2 into 2x81\n",
    "for i in range(heating_sensors[0].shape[0]):\n",
    "    for j in range(len(heating_sensors)):\n",
    "        xx=np.asarray(heating_sensors[j])\n",
    "        split_heating_sensors[i,j]=xx[i]\n",
    "print(\"Dimensions of matrix:\", split_heating_sensors.shape)"
   ]
  },
  {
   "cell_type": "code",
   "execution_count": null,
   "metadata": {},
   "outputs": [],
   "source": [
    "def plot_density_hist_forge(num_of_sensor,time):\n",
    "    sns.set_style(\"whitegrid\")\n",
    "    sns.distplot(split_forging_sensors[num_of_sensor,:,time], bins = 5, rug=True, hist = True)\n",
    "     # Give the plot a main title\n",
    "         # Set text for the x axis\n",
    "    plt.title(\"Histogram of\"+\" \"+forging_sensors[0].index[num_of_sensor])\n",
    "    plt.show()\n",
    "interact(plot_density_hist_forge,num_of_sensor=widgets.IntSlider(min=0, max=14, step=1),time=widgets.IntSlider(min=0, max=5619, step=1))"
   ]
  },
  {
   "cell_type": "code",
   "execution_count": null,
   "metadata": {},
   "outputs": [],
   "source": [
    "def plot_density_hist_heat(num_of_sensor,time):\n",
    "    sns.set_style(\"whitegrid\")\n",
    "    sns.distplot(split_heating_sensors[num_of_sensor,:,time], bins = 5, rug=True, hist = True)\n",
    "     # Give the plot a main title\n",
    "         # Set text for the x axis\n",
    "    plt.title(\"Histogram of\"+\" \"+heating_sensors[0].index[num_of_sensor])\n",
    "    plt.show()\n",
    "interact(plot_density_hist_heat,num_of_sensor=widgets.IntSlider(min=0, max=2, step=1),time=widgets.IntSlider(min=0, max=10997, step=1))\n"
   ]
  },
  {
   "cell_type": "markdown",
   "metadata": {},
   "source": [
    "For each sensor, 20 s interval around midpoint is extracted and will be used in the next steps."
   ]
  },
  {
   "cell_type": "code",
   "execution_count": null,
   "metadata": {},
   "outputs": [],
   "source": [
    "hf_forge = h5py.File('forge_sensors.h5', 'w')\n",
    "hf_heat=h5py.File('heating_sensors.h5', 'w')"
   ]
  },
  {
   "cell_type": "markdown",
   "metadata": {},
   "source": [
    "These sensors are saved separately for the use in the following notebooks."
   ]
  },
  {
   "cell_type": "code",
   "execution_count": null,
   "metadata": {},
   "outputs": [],
   "source": [
    "[hf_forge.create_dataset('Sensor'+str(i),data=split_forging_sensors[i][:,1809:3809]) for i in range(len(split_forging_sensors))]"
   ]
  },
  {
   "cell_type": "code",
   "execution_count": null,
   "metadata": {},
   "outputs": [],
   "source": [
    "[hf_heat.create_dataset('Sensor'+str(i),data=split_heating_sensors[i][:,4498:6498]) for i in range(len(split_heating_sensors))]"
   ]
  },
  {
   "cell_type": "code",
   "execution_count": null,
   "metadata": {},
   "outputs": [],
   "source": [
    "hf_forge.close()"
   ]
  },
  {
   "cell_type": "code",
   "execution_count": null,
   "metadata": {},
   "outputs": [],
   "source": [
    "hf_heat.close()"
   ]
  },
  {
   "cell_type": "markdown",
   "metadata": {},
   "source": [
    "Now, a white noise $\\epsilon$ is added to the observed part of the signals (20 s):\n",
    "\n",
    "$$x_{n}(t) = x(t)+\\epsilon$$\n",
    "\n",
    "\n",
    "A white noise is defined with normal distribution - \n",
    "\n",
    "White noise has normal distribution ${\\mathcal {N}}(0 ,\\sigma ^{2})$, where $\\sigma ^{2}$ represents variance. The process of adding a white noise is as follows:\n",
    "* Step1: For each sensor, a mean value for the centered part of the signals is calculated. \n",
    "* Step2: Standard deviation $\\sigma$ of a white noise is defined as 1% of the mean value calculated in the Step 1.\n",
    "This has been done separately for forging and heating sensors."
   ]
  },
  {
   "cell_type": "code",
   "execution_count": null,
   "metadata": {},
   "outputs": [],
   "source": [
    "mean_value_forge= [split_forging_sensors[i][:,1809:3809].mean() for i in range(len(split_forging_sensors))]\n",
    "white_noise_forge=[np.random.randn(2000)*0.01*(mean_value_forge[i]) for i in range(len(split_forging_sensors))]\n",
    "\n",
    "mean_value_heat= [split_heating_sensors[i][:,4498:6498].mean() for i in range(len(split_heating_sensors))]\n",
    "white_noise_heat=[np.random.randn(2000)*0.01*(mean_value_heat[i]) for i in range(len(split_heating_sensors))]"
   ]
  },
  {
   "cell_type": "markdown",
   "metadata": {},
   "source": [
    "White noise signal is plotted together with original signal to observe if the value of variance can be correctly used for each sensor."
   ]
  },
  {
   "cell_type": "code",
   "execution_count": null,
   "metadata": {},
   "outputs": [],
   "source": [
    "def plot_white_noise_forge(num_of_sensor,part):\n",
    "    \n",
    "    fig = plt.figure(figsize=(7,7)) # define plot area\n",
    "    plt.plot(np.arange(0,20,0.01),white_noise_forge[num_of_sensor],label=\"white noise\")\n",
    "    plt.plot(np.arange(0,20,0.01),split_forging_sensors[num_of_sensor][part,1809:3809], label=\"original signal\")\n",
    "    plt.xlabel(\"Time, s\")\n",
    "    plt.ylabel(forging_sensors[0].index[num_of_sensor])\n",
    "    plt.legend()\n",
    "    plt.show()\n",
    "interact(plot_white_noise_forge,num_of_sensor=widgets.IntSlider(min=0, max=14, step=1),part=widgets.IntSlider(min=0, max=81, step=1))\n"
   ]
  },
  {
   "cell_type": "code",
   "execution_count": null,
   "metadata": {},
   "outputs": [],
   "source": [
    "def plot_white_noise_heat(num_of_sensor,part):\n",
    "    \n",
    "    fig = plt.figure(figsize=(7,7)) # define plot area\n",
    "    plt.plot(np.arange(0,20,0.01),white_noise_heat[num_of_sensor],label=\"white noise\")\n",
    "    plt.plot(np.arange(0,20,0.01),split_heating_sensors[num_of_sensor][part,4498:6498], label=\"original signal\")\n",
    "    plt.xlabel(\"Time, s\")\n",
    "    plt.ylabel(heating_sensors[0].index[num_of_sensor])\n",
    "    plt.legend()\n",
    "    plt.show()\n",
    "interact(plot_white_noise_heat,num_of_sensor=widgets.IntSlider(min=0, max=2, step=1),part=widgets.IntSlider(min=0, max=81, step=1))\n"
   ]
  },
  {
   "cell_type": "markdown",
   "metadata": {},
   "source": [
    "After an insight through plots, white noise signals are added to the original signals from sensors."
   ]
  },
  {
   "cell_type": "code",
   "execution_count": null,
   "metadata": {},
   "outputs": [],
   "source": [
    "#adding white noise\n",
    "def add_white_noise(sensors,white_noise,start,end):\n",
    "    sensors_with_noise=[sensors[i][:,start:end]+ white_noise[i] for i in range(len(sensors))]   \n",
    "    return sensors_with_noise"
   ]
  },
  {
   "cell_type": "code",
   "execution_count": null,
   "metadata": {},
   "outputs": [],
   "source": [
    "sensors_with_noise_forge=add_white_noise(split_forging_sensors,white_noise_forge,1809,3809)\n",
    "sensors_with_noise_heat=add_white_noise(split_heating_sensors,white_noise_heat,4498,6498)"
   ]
  },
  {
   "cell_type": "code",
   "execution_count": null,
   "metadata": {},
   "outputs": [],
   "source": [
    "def plot_signal_with_noise_forge(num_of_sensor,part):\n",
    "    fig = plt.figure(figsize=(7,7)) # define plot area\n",
    "    plt.plot(np.arange(0,20,0.01),sensors_with_noise_forge[num_of_sensor][part],label=\" Signal with white noise\")\n",
    "    plt.plot(np.arange(0,20,0.01),split_forging_sensors[num_of_sensor][part,1809:3809], label=\"Original signal\")\n",
    "    plt.xlabel(\"Time, s\")\n",
    "    plt.ylabel(forging_sensors[0].index[num_of_sensor])\n",
    "    plt.legend()\n",
    "    plt.show()\n",
    "interact(plot_signal_with_noise_forge,num_of_sensor=widgets.IntSlider(min=0, max=14, step=1),part=widgets.IntSlider(min=0, max=81, step=1))\n"
   ]
  },
  {
   "cell_type": "code",
   "execution_count": null,
   "metadata": {},
   "outputs": [],
   "source": [
    "def plot_signal_with_noise_heat(num_of_sensor,part):\n",
    "    fig = plt.figure(figsize=(7,7)) # define plot area\n",
    "    plt.plot(np.arange(0,20,0.01),sensors_with_noise_heat[num_of_sensor][part],label=\"Signal with white noise\")\n",
    "    plt.plot(np.arange(0,20,0.01),split_heating_sensors[num_of_sensor][part,4498:6498], label=\"Original signal\")\n",
    "    plt.xlabel(\"Time, s\")\n",
    "    plt.ylabel(heating_sensors[0].index[num_of_sensor])\n",
    "    plt.legend()\n",
    "    plt.show()\n",
    "interact(plot_signal_with_noise_heat,num_of_sensor=widgets.IntSlider(min=0, max=2, step=1),part=widgets.IntSlider(min=0, max=81, step=1))\n"
   ]
  },
  {
   "cell_type": "code",
   "execution_count": null,
   "metadata": {},
   "outputs": [],
   "source": [
    "forging_sensors[0].index"
   ]
  },
  {
   "cell_type": "code",
   "execution_count": null,
   "metadata": {},
   "outputs": [],
   "source": [
    "time=20\n",
    "n_of_sampling_points=2000\n",
    "freq = np.fft.rfftfreq(n_of_sampling_points, float(time)/n_of_sampling_points)   # frequency axis\n",
    "amp = np.fft.rfft(sensors_with_noise_forge[0][0])   "
   ]
  },
  {
   "cell_type": "markdown",
   "metadata": {},
   "source": [
    "# END"
   ]
  },
  {
   "cell_type": "code",
   "execution_count": null,
   "metadata": {},
   "outputs": [],
   "source": [
    "m=sensors_with_noise_forge[0][0].size"
   ]
  },
  {
   "cell_type": "code",
   "execution_count": null,
   "metadata": {},
   "outputs": [],
   "source": [
    "\n"
   ]
  },
  {
   "cell_type": "code",
   "execution_count": null,
   "metadata": {},
   "outputs": [],
   "source": [
    "w = np.fft.rfft(sensors_with_noise_forge[0][0] * signal.get_window(\"hamming\", m))"
   ]
  },
  {
   "cell_type": "code",
   "execution_count": null,
   "metadata": {},
   "outputs": [],
   "source": [
    "plt.plot(np.arange(2000),sensors_with_noise_forge[0][0] * signal.get_window(\"hamming\", m))"
   ]
  },
  {
   "cell_type": "code",
   "execution_count": null,
   "metadata": {},
   "outputs": [],
   "source": [
    "time=20\n",
    "n_of_sampling_points=2000\n",
    "freq = np.fft.rfftfreq(n_of_sampling_points, float(time)/n_of_sampling_points)   # frequency axis"
   ]
  },
  {
   "cell_type": "code",
   "execution_count": null,
   "metadata": {},
   "outputs": [],
   "source": [
    "fig = plt.figure(figsize=(15,5))\n",
    "plt.plot(freq, 20*np.log10(np.abs(w)))\n",
    "plt.xlabel(\"Frequency (Hz)\")  \n",
    "plt.ylabel(\"Amplitude (Pa)\")  "
   ]
  },
  {
   "cell_type": "code",
   "execution_count": null,
   "metadata": {},
   "outputs": [],
   "source": [
    "fig = plt.figure(figsize=(15,5))\n",
    "\n",
    "plt.plot(freq, (np.abs(w)))\n",
    "plt.xlabel(\"Frequency (Hz)\")  \n",
    "plt.ylabel(\"Amplitude (Pa)\")  "
   ]
  },
  {
   "cell_type": "code",
   "execution_count": null,
   "metadata": {},
   "outputs": [],
   "source": [
    "plt.plot(np.arange(0,20,0.01),sensors_with_noise_forge[0][0], label=\"Real values\")\n",
    "plt.ylabel(\"Microphone (Pa)\")\n",
    "plt.xlabel(\"Time (s)\")"
   ]
  },
  {
   "cell_type": "code",
   "execution_count": null,
   "metadata": {},
   "outputs": [],
   "source": [
    "fig = plt.figure(figsize=(15,5))\n",
    "plt.plot(freq,np.abs(amp))\n",
    "plt.xlabel(\"Frequency (Hz)\")  \n",
    "plt.ylabel(\"Amplitude (Pa)\")  "
   ]
  },
  {
   "cell_type": "code",
   "execution_count": null,
   "metadata": {},
   "outputs": [],
   "source": [
    "time=20\n",
    "n_of_sampling_points=2000\n",
    "freq = np.fft.rfftfreq(n_of_sampling_points, float(time)/n_of_sampling_points)   # frequency axis\n",
    "amp = np.fft.rfft(sensors_with_noise_heat[0][0])   "
   ]
  },
  {
   "cell_type": "code",
   "execution_count": null,
   "metadata": {},
   "outputs": [],
   "source": [
    "plt.plot(np.arange(0,20,0.01),sensors_with_noise_heat[0][0], label=\"Real values\")\n",
    "plt.ylabel(\"Microphone (Pa)\")\n",
    "plt.xlabel(\"Time (s)\")"
   ]
  },
  {
   "cell_type": "code",
   "execution_count": null,
   "metadata": {},
   "outputs": [],
   "source": [
    "fig = plt.figure(figsize=(15,5))\n",
    "plt.plot(freq,np.abs(amp))\n",
    "plt.xlabel(\"Frequency (Hz)\")  \n",
    "plt.ylabel(\"Amplitude (Pa)\")  "
   ]
  },
  {
   "cell_type": "code",
   "execution_count": null,
   "metadata": {},
   "outputs": [],
   "source": []
  }
 ],
 "metadata": {
  "kernelspec": {
   "display_name": "Python 3",
   "language": "python",
   "name": "python3"
  },
  "language_info": {
   "codemirror_mode": {
    "name": "ipython",
    "version": 3
   },
   "file_extension": ".py",
   "mimetype": "text/x-python",
   "name": "python",
   "nbconvert_exporter": "python",
   "pygments_lexer": "ipython3",
   "version": "3.7.3"
  }
 },
 "nbformat": 4,
 "nbformat_minor": 2
}
