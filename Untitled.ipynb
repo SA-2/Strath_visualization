{
 "cells": [
  {
   "cell_type": "markdown",
   "metadata": {},
   "source": [
    "# Data pre-processing and visualization"
   ]
  },
  {
   "cell_type": "code",
   "execution_count": null,
   "metadata": {},
   "outputs": [],
   "source": [
    "import pandas as pd\n",
    "import numpy as np\n",
    "import matplotlib.pyplot as plt\n",
    "import seaborn as sns\n",
    "import os,sys"
   ]
  },
  {
   "cell_type": "markdown",
   "metadata": {},
   "source": [
    "Uploading 81 files which correspond to 81 production parts."
   ]
  },
  {
   "cell_type": "code",
   "execution_count": null,
   "metadata": {},
   "outputs": [],
   "source": [
    "scope_traces=[] #this will be the list of dataframes\n",
    "file_names=os.listdir('C:/Users/Ehlimana/Desktop/New try/Data/AFRC Radial Forge - Zenodoo Upload v3/Data/ScopeTraces')"
   ]
  },
  {
   "cell_type": "markdown",
   "metadata": {},
   "source": [
    "Upload check"
   ]
  },
  {
   "cell_type": "code",
   "execution_count": null,
   "metadata": {},
   "outputs": [],
   "source": [
    "file_names[0]"
   ]
  },
  {
   "cell_type": "markdown",
   "metadata": {},
   "source": [
    "Creating the list of dataframes for the uploaded files:"
   ]
  },
  {
   "cell_type": "code",
   "execution_count": null,
   "metadata": {},
   "outputs": [],
   "source": [
    "for file in file_names:\n",
    "    df=pd.read_csv(\"C:\\\\Users\\\\Ehlimana\\\\Desktop\\\\New try\\\\Data\\\\AFRC Radial Forge - Zenodoo Upload v3\\\\Data\\\\ScopeTraces\\\\\"+file,encoding = 'unicode_escape') \n",
    "    scope_traces.append(df)"
   ]
  },
  {
   "cell_type": "code",
   "execution_count": null,
   "metadata": {},
   "outputs": [],
   "source": [
    "type(scope_traces[0]) #checking the type of element in the list (dataframe)"
   ]
  },
  {
   "cell_type": "markdown",
   "metadata": {},
   "source": [
    "For each dataframe, it is possible to check the type of values in all columns. It is expected that all values are integers *int* or real numbers *float64* because they represent measuring data from the sensors. To demonstrate this step, it will be done on one file."
   ]
  },
  {
   "cell_type": "code",
   "execution_count": null,
   "metadata": {},
   "outputs": [],
   "source": [
    "scope_traces[0].dtypes"
   ]
  },
  {
   "cell_type": "markdown",
   "metadata": {},
   "source": [
    "Function *check_empty* checks whether the file contains empty cells. Here, it is supposed that empty cell is a blank cell (\" \")."
   ]
  },
  {
   "cell_type": "code",
   "execution_count": null,
   "metadata": {},
   "outputs": [],
   "source": [
    "def check_empty(trace):\n",
    "    empty_cell=(trace.astype(np.object) == '').any()\n",
    "    [print(\"Empty_cell\") for x in empty_cell if x==True]"
   ]
  },
  {
   "cell_type": "code",
   "execution_count": null,
   "metadata": {},
   "outputs": [],
   "source": [
    "for i in range(len(scope_traces)): #check for all of 81 files\n",
    "    print(i, end=\"\\r\") \n",
    "    check_empty(scope_traces[i])"
   ]
  },
  {
   "cell_type": "markdown",
   "metadata": {},
   "source": [
    "Function *plot_sensors* plots signals from the sensor recorded during the whole production process of one part (comprised of three phases: heating, transferring and forging)."
   ]
  },
  {
   "cell_type": "code",
   "execution_count": null,
   "metadata": {},
   "outputs": [],
   "source": [
    "def plot_sensors(part):\n",
    "    column_names=part.columns\n",
    "    for column in column_names:\n",
    "        fig = plt.figure(figsize=(4,4)) # define plot area\n",
    "        plt.plot(np.arange(0,(part.shape[0]/100),0.01),part[column].values)\n",
    "        plt.xlabel(\"Time, s\")\n",
    "        plt.ylabel(column)\n",
    "        plt.show()"
   ]
  },
  {
   "cell_type": "markdown",
   "metadata": {},
   "source": [
    "Based on previous notebooks and similar plots where changes in signals and peaks were observed, sensors are divided into two groups: forging and heating for each produced part."
   ]
  },
  {
   "cell_type": "code",
   "execution_count": null,
   "metadata": {},
   "outputs": [],
   "source": [
    "forging_sensors=np.zeros((len(scope_traces), *scope_traces[0].shape))\n",
    "\n",
    "forging_sensors=[scope_traces[part][['Power [kW]', 'Force [kN]', 'A_ges_vibr','Schlagzahl [1/min]', 'RamRetract_ActSpd [rpm]',\n",
    "       'A_ACTpos [mm]', 'L_ACTpos [mm]', 'R_ACTpos [mm]','SBA_ActPos [mm]', 'A_ACT_Force [kN]', 'DB_ACT_Force [kN]',\n",
    "       'L_NOMpos [mm]', 'R_NOMpos [mm]', 'INDA_NOMpos [deg]','A_NOMpos [mm]', 'Frc_Volt','ForgingBox_Temp', 'L1.R_B41 [bar]', 'TMP_Ind_F [°C]','W2 Durchfluss [l]', 'W1 Durchfluss [l]']] for part in range(len(scope_traces))] "
   ]
  },
  {
   "cell_type": "code",
   "execution_count": null,
   "metadata": {
    "scrolled": true
   },
   "outputs": [],
   "source": [
    "plot_sensors(forging_sensors[0])"
   ]
  },
  {
   "cell_type": "code",
   "execution_count": null,
   "metadata": {},
   "outputs": [],
   "source": [
    "heating_sensors=np.zeros((len(scope_traces), *scope_traces[0].shape))\n",
    "heating_sensors=[scope_traces[part][['TMP_Ind_U1 [°C]','IP_ActPos [mm]', 'IP_NomPos']] for part in range(len(scope_traces))]"
   ]
  },
  {
   "cell_type": "code",
   "execution_count": null,
   "metadata": {},
   "outputs": [],
   "source": [
    "plot_sensors(heating_sensors[0])"
   ]
  },
  {
   "cell_type": "markdown",
   "metadata": {},
   "source": [
    "Statistical overview of the sensors is made by function *df_summary*. This will be demonstrated only for the first production part."
   ]
  },
  {
   "cell_type": "code",
   "execution_count": null,
   "metadata": {},
   "outputs": [],
   "source": [
    "def df_summary(part):\n",
    "    print(\"Part\", part.describe())"
   ]
  },
  {
   "cell_type": "code",
   "execution_count": null,
   "metadata": {},
   "outputs": [],
   "source": [
    "df_summary(forging_sensors[0])"
   ]
  },
  {
   "cell_type": "code",
   "execution_count": null,
   "metadata": {
    "scrolled": true
   },
   "outputs": [],
   "source": [
    "df_summary(heating_sensors[0])"
   ]
  },
  {
   "cell_type": "markdown",
   "metadata": {},
   "source": [
    "Pearson correlation coefficients between different sensors are calculated in the next cell. Correlation can have big impact on feature selection."
   ]
  },
  {
   "cell_type": "code",
   "execution_count": null,
   "metadata": {},
   "outputs": [],
   "source": [
    "def calculate_correlation(sensors):\n",
    "    correlation_list=[sensors[i].corr().values for i in range(len(sensors))]\n",
    "    correlation_array=np.array(correlation_list)\n",
    "    print(\"Correlation array dimensions:\",correlation_array.shape)\n",
    "    corr_mean=np.mean(correlation_array,axis=0)\n",
    "    print(\"Mean value of correlation coefficients for all sensors:\")\n",
    "    corr_mean_df=pd.DataFrame(corr_mean,columns=sensors[0].columns,index=sensors[0].columns)\n",
    "    return corr_mean_df.style.background_gradient(cmap='coolwarm').set_precision(2)"
   ]
  },
  {
   "cell_type": "code",
   "execution_count": null,
   "metadata": {},
   "outputs": [],
   "source": [
    "calculate_correlation(forging_sensors) #mean values of corr coefficients for all parts"
   ]
  },
  {
   "cell_type": "code",
   "execution_count": null,
   "metadata": {},
   "outputs": [],
   "source": [
    "calculate_correlation(heating_sensors) #mean values of corr coefficients for all parts"
   ]
  },
  {
   "cell_type": "markdown",
   "metadata": {},
   "source": [
    "## Extraction of the heating phase and forging phase from the sensors' signals"
   ]
  },
  {
   "cell_type": "markdown",
   "metadata": {},
   "source": [
    "Merge data from all parts into one DataFrame:"
   ]
  },
  {
   "cell_type": "code",
   "execution_count": null,
   "metadata": {},
   "outputs": [],
   "source": [
    "for index,df in enumerate(scope_traces):\n",
    "    df['traceID'] = index+1"
   ]
  },
  {
   "cell_type": "code",
   "execution_count": null,
   "metadata": {},
   "outputs": [],
   "source": [
    "merged_data = pd.concat(scope_traces, ignore_index=True)\n",
    "merged_data['Time [s]']=(merged_data.index.values)/100.0"
   ]
  },
  {
   "cell_type": "markdown",
   "metadata": {},
   "source": [
    "Function *extract_heating_phases* uses the value of the sensor \"$U_GH_HEATON_1 (U25S0).1\" greater than zero as reference for the start of the heating phase. When the value becomes zero, it means that heating phase is finished. This phase is extracted only for heating sensors."
   ]
  },
  {
   "cell_type": "code",
   "execution_count": null,
   "metadata": {},
   "outputs": [],
   "source": [
    "def extract_heating_phases(trace):\n",
    "    heating_start=[]\n",
    "    heating_stop=[]\n",
    "    \n",
    "    digital_sig_heating = trace['$U_GH_HEATON_1 (U25S0).1']>0\n",
    "    heating_diff = digital_sig_heating.astype('int').diff()\n",
    "    heating_start.append(heating_diff[heating_diff==1].index.values) # difference between next cell and previous cell \n",
    "                                                                    #is positive because the heating phase is still active\n",
    "    heating_stop.append(heating_diff[heating_diff==-1].index.values) # difference between next cell and previous cell \n",
    "                                                                    #is negative because the heating phase is finished\n",
    "    heat_list=list(zip(heating_start[0], heating_stop[0]))\n",
    "    heating_ph=[None]*(len(heat_list))\n",
    "                  \n",
    "    heating_ph=[trace[['TMP_Ind_U1 [°C]','IP_ActPos [mm]','IP_NomPos']][heat_list[i][0]:heat_list[i][1]] for i in range(len(heat_list))] \n",
    "        \n",
    "    return heating_ph\n"
   ]
  },
  {
   "cell_type": "markdown",
   "metadata": {},
   "source": [
    "Function *extract_forging_phases* uses the value of the sensor \"Force [kN]\" greater than zero as reference for the start of the forging phase."
   ]
  },
  {
   "cell_type": "code",
   "execution_count": null,
   "metadata": {},
   "outputs": [],
   "source": [
    "def extract_forging_phases(trace):\n",
    "    forging_start=[]\n",
    "    forging_end=[]\n",
    "    digital_sig_forge = trace['Force [kN]']>0\n",
    "    forge_diff = digital_sig_forge.astype('int').diff()\n",
    "    forging_start.append(forge_diff[forge_diff==1].index.values)\n",
    "    forging_end.append(forge_diff[forge_diff==-1].index.values) \n",
    "                    \n",
    "    forge_list=list(zip(forging_start[0], forging_end[0]))     \n",
    "    forging_ph=[None]*(len(forge_list))\n",
    "    forging_ph=[trace[['Power [kW]', 'Force [kN]', 'A_ges_vibr','Schlagzahl [1/min]', 'RamRetract_ActSpd [rpm]',\n",
    "       'A_ACTpos [mm]', 'L_ACTpos [mm]', 'R_ACTpos [mm]','SBA_ActPos [mm]', 'A_ACT_Force [kN]', 'DB_ACT_Force [kN]',\n",
    "       'L_NOMpos [mm]', 'R_NOMpos [mm]', 'INDA_NOMpos [deg]','A_NOMpos [mm]', 'Frc_Volt','ForgingBox_Temp', 'L1.R_B41 [bar]', 'TMP_Ind_F [°C]','W2 Durchfluss [l]', 'W1 Durchfluss [l]']][forge_list[i][0]:forge_list[i][1]] for i in range(len(forge_list))]\n",
    "    return forging_ph"
   ]
  },
  {
   "cell_type": "code",
   "execution_count": null,
   "metadata": {},
   "outputs": [],
   "source": [
    "heating_ph=extract_heating_phases(merged_data)"
   ]
  },
  {
   "cell_type": "code",
   "execution_count": null,
   "metadata": {},
   "outputs": [],
   "source": [
    "forging_ph=extract_forging_phases(merged_data)"
   ]
  },
  {
   "cell_type": "markdown",
   "metadata": {},
   "source": [
    "Minimum duration of heating and forging phase for all parts that were produced:"
   ]
  },
  {
   "cell_type": "code",
   "execution_count": null,
   "metadata": {},
   "outputs": [],
   "source": [
    "cycle_length_heat=[None]*(len(heating_ph))\n",
    "cycle_length_forge=[None]*(len(heating_ph))\n",
    "cycle_length_heat=[(heating_ph[i].shape[0]) for i in range(len(heating_ph))]\n",
    "cycle_length_forge=[(forging_ph[i].shape[0]) for i in range(len(heating_ph))]\n",
    "min_length_heat=min(cycle_length_heat)\n",
    "min_length_forge=min(cycle_length_forge)\n",
    "print(\"Minimum length of time signals  for the heating phase is :\",min_length_heat, \"and it is in\",cycle_length_heat.index(min_length_heat),\". cycle\")\n",
    "print(\"Minimum length of time signals  for the forging phase is :\",min_length_forge, \"and it is in\",cycle_length_forge.index(min_length_forge),\". cycle\")    "
   ]
  },
  {
   "cell_type": "markdown",
   "metadata": {},
   "source": [
    "Because of the different length of heating phase and forging phase of time signals, the minimum duration for both phases is extracted. Then, steps for the calculation of statistical summary and correlation coefficients are repeated."
   ]
  },
  {
   "cell_type": "code",
   "execution_count": null,
   "metadata": {},
   "outputs": [],
   "source": [
    "heating_ph_extracted=[None]*(len(heating_ph))\n",
    "heating_ph_extracted=[heating_ph[x].iloc[:10997,:] for x in range(len(heating_ph))]"
   ]
  },
  {
   "cell_type": "code",
   "execution_count": null,
   "metadata": {},
   "outputs": [],
   "source": [
    "forging_ph_extracted=[None]*(len(heating_ph))\n",
    "forging_ph_extracted=[forging_ph[x].iloc[:5619,:] for x in range(len(forging_ph))]"
   ]
  },
  {
   "cell_type": "code",
   "execution_count": null,
   "metadata": {},
   "outputs": [],
   "source": [
    "df_summary(heating_ph_extracted[0])"
   ]
  },
  {
   "cell_type": "code",
   "execution_count": null,
   "metadata": {},
   "outputs": [],
   "source": [
    "df_summary(forging_ph_extracted[0])"
   ]
  },
  {
   "cell_type": "code",
   "execution_count": null,
   "metadata": {},
   "outputs": [],
   "source": [
    "calculate_correlation(forging_ph_extracted) #mean values of corr coefficients for all parts"
   ]
  },
  {
   "cell_type": "code",
   "execution_count": null,
   "metadata": {},
   "outputs": [],
   "source": [
    "calculate_correlation(heating_ph_extracted) #mean values of corr coefficients for all parts"
   ]
  },
  {
   "cell_type": "code",
   "execution_count": null,
   "metadata": {},
   "outputs": [],
   "source": [
    "#strong correlation\n",
    "forging_sensors=[forging_ph_extracted[i].drop(columns=['Power [kW]','R_NOMpos [mm]',\"L_NOMpos [mm]\",'L1.R_B41 [bar]','W2 Durchfluss [l]', 'W1 Durchfluss [l]',\"A_NOMpos [mm]\",\"L_NOMpos [mm]\"]) for i in range(len(forging_ph_extracted))]"
   ]
  },
  {
   "cell_type": "code",
   "execution_count": null,
   "metadata": {
    "scrolled": true
   },
   "outputs": [],
   "source": [
    "calculate_correlation(forging_sensors)"
   ]
  },
  {
   "cell_type": "code",
   "execution_count": null,
   "metadata": {},
   "outputs": [],
   "source": [
    "heating_sensors=[heating_ph_extracted[i].drop(columns=['IP_NomPos']) for i in range(len(heating_ph_extracted))]"
   ]
  },
  {
   "cell_type": "code",
   "execution_count": null,
   "metadata": {},
   "outputs": [],
   "source": [
    "calculate_correlation(heating_sensors)"
   ]
  },
  {
   "cell_type": "code",
   "execution_count": null,
   "metadata": {},
   "outputs": [],
   "source": [
    "#split in dimensions 14x81x5619:\n",
    "forging_sensors=[np.transpose(forging_sensors[i])for i in range(len(forging_sensors))] #81x14x5619\n",
    "#define the array of sensors (14x81x5619):\n",
    "split_forging_sensors=np.zeros((forging_sensors[0].shape[0],len(forging_sensors),forging_sensors[0].shape[1]))\n",
    "#turn 81x14 into 14x81\n",
    "for i in range(forging_sensors[0].shape[0]):\n",
    "    for j in range(len(forging_sensors)):\n",
    "        xx=np.asarray(forging_sensors[j])\n",
    "        split_forging_sensors[i,j]=xx[i]\n",
    "print(\"Dimensions of matrix:\", split_forging_sensors.shape)"
   ]
  },
  {
   "cell_type": "code",
   "execution_count": null,
   "metadata": {},
   "outputs": [],
   "source": [
    "#split in dimensions 2x81x10997:\n",
    "heating_sensors=[np.transpose(heating_sensors[i])for i in range(len(heating_sensors))] #81x2x10997\n",
    "#define the array of sensors (2x81x10997):\n",
    "split_heating_sensors=np.zeros((heating_sensors[0].shape[0],len(heating_sensors),heating_sensors[0].shape[1]))\n",
    "#turn 81x2 into 2x81\n",
    "for i in range(heating_sensors[0].shape[0]):\n",
    "    for j in range(len(heating_sensors)):\n",
    "        xx=np.asarray(heating_sensors[j])\n",
    "        split_heating_sensors[i,j]=xx[i]\n",
    "print(\"Dimensions of matrix:\", split_heating_sensors.shape)"
   ]
  },
  {
   "cell_type": "code",
   "execution_count": null,
   "metadata": {},
   "outputs": [],
   "source": [
    "import ipywidgets as widgets\n",
    "from ipywidgets import interact, interact_manual"
   ]
  },
  {
   "cell_type": "code",
   "execution_count": null,
   "metadata": {},
   "outputs": [],
   "source": [
    "def plot_density_hist_forge(num_of_sensor,time):\n",
    "    sns.set_style(\"whitegrid\")\n",
    "    sns.distplot(split_forging_sensors[num_of_sensor,:,time], bins = 5, rug=True, hist = True)\n",
    "     # Give the plot a main title\n",
    "         # Set text for the x axis\n",
    "    plt.title(\"Histogram of\"+\" \"+forging_sensors[0].index[num_of_sensor])\n",
    "    plt.show()\n",
    "interact(plot_density_hist_forge,num_of_sensor=widgets.IntSlider(min=0, max=14, step=1),time=widgets.IntSlider(min=0, max=5619, step=1))\n"
   ]
  },
  {
   "cell_type": "code",
   "execution_count": null,
   "metadata": {},
   "outputs": [],
   "source": [
    "def plot_density_hist_heat(num_of_sensor,time):\n",
    "    sns.set_style(\"whitegrid\")\n",
    "    sns.distplot(split_heating_sensors[num_of_sensor,:,time], bins = 5, rug=True, hist = True)\n",
    "     # Give the plot a main title\n",
    "         # Set text for the x axis\n",
    "    plt.title(\"Histogram of\"+\" \"+heating_sensors[0].index[num_of_sensor])\n",
    "    plt.show()\n",
    "interact(plot_density_hist_heat,num_of_sensor=widgets.IntSlider(min=0, max=2, step=1),time=widgets.IntSlider(min=0, max=10997, step=1))\n"
   ]
  },
  {
   "cell_type": "code",
   "execution_count": null,
   "metadata": {},
   "outputs": [],
   "source": [
    "min_value_forge= [split_forging_sensors[i].min() for i in range(len(split_forging_sensors))]\n",
    "white_noise_forge=[np.random.randn(split_forging_sensors[i].shape[1])*0.1*(min_value_forge[i]) for i in range(len(split_forging_sensors))]\n",
    "\n",
    "min_value_heat= [split_heating_sensors[i].min() for i in range(len(split_heating_sensors))]\n",
    "white_noise_heat=[np.random.randn(split_heating_sensors[i].shape[1])*0.1*(min_value_heat[i]) for i in range(len(split_heating_sensors))]"
   ]
  },
  {
   "cell_type": "code",
   "execution_count": null,
   "metadata": {},
   "outputs": [],
   "source": [
    "def plot_white_noise_forge(num_of_sensor,part):\n",
    "    \n",
    "    fig = plt.figure(figsize=(7,7)) # define plot area\n",
    "    plt.plot(np.arange(0,(split_forging_sensors[num_of_sensor].shape[1]/100),0.01),white_noise[num_of_sensor],label=\"white noise\")\n",
    "    plt.plot(np.arange(0,(split_forging_sensors[num_of_sensor].shape[1]/100),0.01),split_forging_sensors[num_of_sensor][part], label=\"original signal\")\n",
    "    plt.xlabel(\"Time, s\")\n",
    "    plt.ylabel(forging_sensors[0].index[num_of_sensor])\n",
    "    plt.legend()\n",
    "    plt.show()\n",
    "interact(plot_white_noise_forge,num_of_sensor=widgets.IntSlider(min=0, max=14, step=1),part=widgets.IntSlider(min=0, max=81, step=1))\n"
   ]
  },
  {
   "cell_type": "code",
   "execution_count": null,
   "metadata": {},
   "outputs": [],
   "source": [
    "def plot_white_noise_heat(num_of_sensor,part):\n",
    "    \n",
    "    fig = plt.figure(figsize=(7,7)) # define plot area\n",
    "    plt.plot(np.arange(0,(split_heating_sensors[num_of_sensor].shape[1]/100),0.01),white_noise_heat[num_of_sensor],label=\"white noise\")\n",
    "    plt.plot(np.arange(0,(split_heating_sensors[num_of_sensor].shape[1]/100),0.01),split_heating_sensors[num_of_sensor][part], label=\"original signal\")\n",
    "    plt.xlabel(\"Time, s\")\n",
    "    plt.ylabel(heating_sensors[0].index[num_of_sensor])\n",
    "    plt.legend()\n",
    "    plt.show()\n",
    "interact(plot_white_noise_heat,num_of_sensor=widgets.IntSlider(min=0, max=2, step=1),part=widgets.IntSlider(min=0, max=81, step=1))\n"
   ]
  },
  {
   "cell_type": "code",
   "execution_count": null,
   "metadata": {},
   "outputs": [],
   "source": [
    "#adding white noise\n",
    "def add_white_noise(sensors,white_noise):\n",
    "    sensors_with_noise=[sensors[i][:]+ white_noise[i] for i in range(len(sensors))]   \n",
    "    return sensors_with_noise"
   ]
  },
  {
   "cell_type": "code",
   "execution_count": null,
   "metadata": {},
   "outputs": [],
   "source": [
    "sensors_with_noise_forge=add_white_noise(split_forging_sensors,white_noise_forge)\n",
    "sensors_with_noise_heat=add_white_noise(split_heating_sensors,white_noise_heat)"
   ]
  },
  {
   "cell_type": "code",
   "execution_count": null,
   "metadata": {},
   "outputs": [],
   "source": [
    "def plot_signal_with_noise_forge(num_of_sensor,part):\n",
    "    fig = plt.figure(figsize=(7,7)) # define plot area\n",
    "    plt.plot(np.arange(0,(split_forging_sensors[num_of_sensor].shape[1]/100),0.01),sensors_with_noise_forge[num_of_sensor][part],label=\" Signal with white noise\")\n",
    "    plt.plot(np.arange(0,(split_forging_sensors[num_of_sensor].shape[1]/100),0.01),split_forging_sensors[num_of_sensor][part], label=\"Original signal\")\n",
    "    plt.xlabel(\"Time, s\")\n",
    "    plt.ylabel(forging_sensors[0].index[num_of_sensor])\n",
    "    plt.legend()\n",
    "    plt.show()\n",
    "interact(plot_signal_with_noise_forge,num_of_sensor=widgets.IntSlider(min=0, max=14, step=1),part=widgets.IntSlider(min=0, max=81, step=1))\n"
   ]
  },
  {
   "cell_type": "code",
   "execution_count": null,
   "metadata": {},
   "outputs": [],
   "source": [
    "def plot_signal_with_noise_heat(num_of_sensor,part):\n",
    "    fig = plt.figure(figsize=(7,7)) # define plot area\n",
    "    plt.plot(np.arange(0,(split_heating_sensors[num_of_sensor].shape[1]/100),0.01),sensors_with_noise_heat[num_of_sensor][part],label=\"Signal with white noise\")\n",
    "    plt.plot(np.arange(0,(split_heating_sensors[num_of_sensor].shape[1]/100),0.01),split_heating_sensors[num_of_sensor][part], label=\"Original signal\")\n",
    "    plt.xlabel(\"Time, s\")\n",
    "    plt.ylabel(heating_sensors[0].index[num_of_sensor])\n",
    "    plt.legend()\n",
    "    plt.show()\n",
    "interact(plot_signal_with_noise_heat,num_of_sensor=widgets.IntSlider(min=0, max=2, step=1),part=widgets.IntSlider(min=0, max=81, step=1))\n"
   ]
  }
 ],
 "metadata": {
  "kernelspec": {
   "display_name": "Python 3",
   "language": "python",
   "name": "python3"
  },
  "language_info": {
   "codemirror_mode": {
    "name": "ipython",
    "version": 3
   },
   "file_extension": ".py",
   "mimetype": "text/x-python",
   "name": "python",
   "nbconvert_exporter": "python",
   "pygments_lexer": "ipython3",
   "version": "3.7.3"
  }
 },
 "nbformat": 4,
 "nbformat_minor": 2
}
