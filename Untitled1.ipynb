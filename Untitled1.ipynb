{
 "cells": [
  {
   "cell_type": "markdown",
   "metadata": {},
   "source": [
    "After analyzing the effects and variance in the previous notebook, the agreed distribution of the white noise is added to the signals in this notebook. After that, a PyDynamic package is used to converse the data intro frequency domain, resulting with amplitudes, phases and their variances as standard uncertainties."
   ]
  },
  {
   "cell_type": "code",
   "execution_count": null,
   "metadata": {},
   "outputs": [],
   "source": [
    "import pandas as pd\n",
    "import numpy as np\n",
    "import matplotlib.pyplot as plt\n",
    "import seaborn as sns\n",
    "import os,sys\n",
    "import ipywidgets as widgets\n",
    "from ipywidgets import interact, interact_manual\n",
    "from scipy import signal\n",
    "import h5py\n",
    "import PyDynamic\n",
    "from PyDynamic.uncertainty.propagate_DFT import Time2AmpPhase_multi"
   ]
  },
  {
   "cell_type": "markdown",
   "metadata": {},
   "source": [
    "Data upload:\n",
    "13 forging sensors and 1 heating sensor."
   ]
  },
  {
   "cell_type": "code",
   "execution_count": null,
   "metadata": {},
   "outputs": [],
   "source": [
    "hf1 = h5py.File('forge_sensors.h5', 'r')\n",
    "hf2= h5py.File('heating_sensors.h5', 'r')"
   ]
  },
  {
   "cell_type": "code",
   "execution_count": null,
   "metadata": {},
   "outputs": [],
   "source": [
    "forging_sensors=[hf1.get(\"Sensor\"+str(i)) for i in range(13)]\n",
    "heating_sensors=[hf2.get(\"Sensor\"+str(i)) for i in range(1)]"
   ]
  },
  {
   "cell_type": "code",
   "execution_count": null,
   "metadata": {},
   "outputs": [],
   "source": [
    "forging_sensors"
   ]
  },
  {
   "cell_type": "code",
   "execution_count": null,
   "metadata": {},
   "outputs": [],
   "source": [
    "heating_sensors=[hf2.get(\"Sensor\"+str(i)) for i in range(1)]"
   ]
  },
  {
   "cell_type": "code",
   "execution_count": null,
   "metadata": {},
   "outputs": [],
   "source": [
    "forging_sensors_list=[np.asarray(forging_sensors[i]) for i in range(len(forging_sensors))]\n",
    "heating_sensors_list=[np.asarray(heating_sensors[i]) for i in range(len(heating_sensors))]"
   ]
  },
  {
   "cell_type": "code",
   "execution_count": null,
   "metadata": {},
   "outputs": [],
   "source": [
    "forging_sensors_list[0].shape"
   ]
  },
  {
   "cell_type": "code",
   "execution_count": null,
   "metadata": {},
   "outputs": [],
   "source": [
    "hf1.close()\n",
    "hf2.close()"
   ]
  },
  {
   "cell_type": "markdown",
   "metadata": {},
   "source": [
    "Upload check:"
   ]
  },
  {
   "cell_type": "code",
   "execution_count": null,
   "metadata": {},
   "outputs": [],
   "source": [
    "forging_sensors_list[0]"
   ]
  },
  {
   "cell_type": "code",
   "execution_count": null,
   "metadata": {},
   "outputs": [],
   "source": [
    "heating_sensors_list[0]"
   ]
  },
  {
   "cell_type": "markdown",
   "metadata": {},
   "source": [
    "Defining the white noise signals for heating and forging sensors:"
   ]
  },
  {
   "cell_type": "code",
   "execution_count": null,
   "metadata": {},
   "outputs": [],
   "source": [
    "mean_value_forge= [forging_sensors_list[i].mean() for i in range(len(forging_sensors_list))]\n",
    "white_noise_forge=[np.random.randn(2000)*0.01*(mean_value_forge[i]) for i in range(len(forging_sensors_list))]\n",
    "\n",
    "mean_value_heat= [heating_sensors_list[i].mean() for i in range(len(heating_sensors_list))]\n",
    "white_noise_heat=[np.random.randn(2000)*0.01*(mean_value_heat[i]) for i in range(len(heating_sensors_list))]"
   ]
  },
  {
   "cell_type": "code",
   "execution_count": null,
   "metadata": {},
   "outputs": [],
   "source": [
    "#adding white noise\n",
    "def add_white_noise(sensors,white_noise,):\n",
    "    sensors_with_noise=[sensors[i][:]+ white_noise[i] for i in range(len(sensors))]   \n",
    "    return sensors_with_noise"
   ]
  },
  {
   "cell_type": "code",
   "execution_count": null,
   "metadata": {},
   "outputs": [],
   "source": [
    "sensors_with_noise_forge=add_white_noise(forging_sensors_list,white_noise_forge)\n",
    "sensors_with_noise_heat=add_white_noise(heating_sensors_list,white_noise_heat)"
   ]
  },
  {
   "cell_type": "markdown",
   "metadata": {},
   "source": [
    "The function *Time2AmpPhase_multi* is used to provide amplitudes, phases, variances of amplitudes, covariances and variances of phases, respectively as a consequence of adding a white noise. More can be found in: https://pydynamic.readthedocs.io/en/master/PyDynamic.uncertainty.html "
   ]
  },
  {
   "cell_type": "code",
   "execution_count": null,
   "metadata": {},
   "outputs": [],
   "source": [
    "A_df_forged=[None]*len(forging_sensors_list)\n",
    "UAP_df_forged=[None]*len(forging_sensors_list)\n",
    "P_df_forged=[None]*len(forging_sensors_list)\n",
    "for i in range(len(forging_sensors_list)):\n",
    "    A_df_forged[i],P_df_forged[i],UAP_df_forged[i]=Time2AmpPhase_multi(forging_sensors_list[i],np.ones(forging_sensors_list[i].shape[0])*mean_value_forge[i])"
   ]
  },
  {
   "cell_type": "code",
   "execution_count": null,
   "metadata": {},
   "outputs": [],
   "source": [
    "A_df_forged[0]"
   ]
  },
  {
   "cell_type": "code",
   "execution_count": null,
   "metadata": {},
   "outputs": [],
   "source": [
    "P_df_forged[0]"
   ]
  },
  {
   "cell_type": "code",
   "execution_count": null,
   "metadata": {},
   "outputs": [],
   "source": []
  }
 ],
 "metadata": {
  "kernelspec": {
   "display_name": "Python 3",
   "language": "python",
   "name": "python3"
  },
  "language_info": {
   "codemirror_mode": {
    "name": "ipython",
    "version": 3
   },
   "file_extension": ".py",
   "mimetype": "text/x-python",
   "name": "python",
   "nbconvert_exporter": "python",
   "pygments_lexer": "ipython3",
   "version": "3.7.3"
  }
 },
 "nbformat": 4,
 "nbformat_minor": 2
}
